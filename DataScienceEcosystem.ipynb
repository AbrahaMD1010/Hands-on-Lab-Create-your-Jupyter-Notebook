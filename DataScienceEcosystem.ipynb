{
 "cells": [
  {
   "cell_type": "markdown",
   "id": "801a3a9a-ee7f-4cf6-a39a-87287fb6c0a1",
   "metadata": {},
   "source": [
    "# Data Science Tools and Ecosystem"
   ]
  },
  {
   "cell_type": "markdown",
   "id": "86112e7f-1178-49a8-9a20-e7f4ca6f6680",
   "metadata": {},
   "source": [
    "In this notebook, Data Science Tools and Ecosystem are summarized."
   ]
  },
  {
   "cell_type": "markdown",
   "id": "422cd2cc-65ae-4598-842d-56496f447024",
   "metadata": {},
   "source": [
    "Some of the languages most used by data scientists are:\n",
    "\n",
    "Julia\n",
    "\n",
    "Python\n",
    "\n",
    "R\n",
    "\n",
    "Scala"
   ]
  },
  {
   "cell_type": "markdown",
   "id": "accd5e25-4067-4984-8bbb-201bc2ae326b",
   "metadata": {},
   "source": [
    "Some of the commonly used libraries used by Data Scientists include:\n",
    "\n",
    "Caret\n",
    "\n",
    "Numpy\n",
    "\n",
    "Pandas\n",
    "\n",
    "Scikit-learn"
   ]
  },
  {
   "cell_type": "markdown",
   "id": "10f03173-6532-4474-8abb-82af44f54538",
   "metadata": {},
   "source": [
    "| Data Science Tools |\n",
    "|--------------------|\n",
    "| Jupyter Notebook   |\n",
    "| RStudio            |\n",
    "| Spyder             |\n"
   ]
  },
  {
   "cell_type": "markdown",
   "id": "4a3ce22a-241d-4ffe-b1ae-dadded12f8ae",
   "metadata": {},
   "source": [
    "### Below are a few examples of evaluating arithmetic expressions in Python.\n"
   ]
  },
  {
   "cell_type": "code",
   "execution_count": 4,
   "id": "2568f231-1087-49ba-b7b6-b82cd286c737",
   "metadata": {},
   "outputs": [
    {
     "data": {
      "text/plain": [
       "17"
      ]
     },
     "execution_count": 4,
     "metadata": {},
     "output_type": "execute_result"
    }
   ],
   "source": [
    "(3*4)+5\n",
    "# This a simple arithmetic expression to mutiply then add integers"
   ]
  },
  {
   "cell_type": "code",
   "execution_count": 9,
   "id": "e7de790d-8984-457a-8654-150a07d78075",
   "metadata": {},
   "outputs": [
    {
     "data": {
      "text/plain": [
       "3.3333333333333335"
      ]
     },
     "execution_count": 9,
     "metadata": {},
     "output_type": "execute_result"
    }
   ],
   "source": [
    "200/60\n",
    "\n",
    "#This will convert 200 minutes to hours by diving by 60"
   ]
  },
  {
   "cell_type": "markdown",
   "id": "3168fac8-3fe0-4f17-a3d6-8e2cb7807897",
   "metadata": {},
   "source": [
    "**Objectives:**\n",
    "\n",
    "- List popular languages for Data Science\n",
    "- Understand development environments used in Data Science\n",
    "- Demonstrate basic arithmetic expressions in Python\n",
    "- Create tables using markdown in Jupyter Notebooks\n"
   ]
  },
  {
   "cell_type": "markdown",
   "id": "e50fb580-60cd-4dd8-a14a-28cba4319f89",
   "metadata": {},
   "source": [
    "## Author\n",
    "Abraham David Miguel Cardenas"
   ]
  },
  {
   "cell_type": "markdown",
   "id": "6be8976f",
   "metadata": {},
   "source": [
    "github repository:\n",
    "https://github.com/AbrahaMD1010/Hands-on-Lab-Create-your-Jupyter-Notebook/tree/main"
   ]
  }
 ],
 "metadata": {
  "kernelspec": {
   "display_name": "Python 3 (ipykernel)",
   "language": "python",
   "name": "python3"
  },
  "language_info": {
   "codemirror_mode": {
    "name": "ipython",
    "version": 3
   },
   "file_extension": ".py",
   "mimetype": "text/x-python",
   "name": "python",
   "nbconvert_exporter": "python",
   "pygments_lexer": "ipython3",
   "version": "3.11.9"
  }
 },
 "nbformat": 4,
 "nbformat_minor": 5
}
